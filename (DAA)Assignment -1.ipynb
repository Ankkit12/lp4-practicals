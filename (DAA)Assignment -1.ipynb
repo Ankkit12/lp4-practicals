{
 "cells": [
  {
   "cell_type": "code",
   "execution_count": 6,
   "id": "884d231a",
   "metadata": {},
   "outputs": [],
   "source": [
    "def recur_fibo(n):\n",
    " if n <= 1:\n",
    "  return n\n",
    " else:\n",
    "  return(recur_fibo(n-1) + recur_fibo(n-2))\n",
    "nterms = 8\n",
    "# check if the number of terms is valid\n",
    "\n",
    "if nterms <= 0:\n",
    " print(\"Plese enter a positive integer\")\n",
    "else:\n",
    " print(\"Fibonacci sequence:\")\n",
    "for i in range(nterms):\n",
    " print(recur_fibo(i))"
   ]
  },
  {
   "cell_type": "code",
   "execution_count": null,
   "id": "ed1b3365",
   "metadata": {},
   "outputs": [],
   "source": [
    "jupyter nbconvert --to webpdf --allow-chromium-download Assi-1_rollno-16.ipynb"
   ]
  }
 ],
 "metadata": {
  "kernelspec": {
   "display_name": "Python 3 (ipykernel)",
   "language": "python",
   "name": "python3"
  },
  "language_info": {
   "codemirror_mode": {
    "name": "ipython",
    "version": 3
   },
   "file_extension": ".py",
   "mimetype": "text/x-python",
   "name": "python",
   "nbconvert_exporter": "python",
   "pygments_lexer": "ipython3",
   "version": "3.11.1"
  }
 },
 "nbformat": 4,
 "nbformat_minor": 5
}
